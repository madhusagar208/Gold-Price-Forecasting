{
 "cells": [
  {
   "cell_type": "code",
   "execution_count": 1,
   "id": "9090609f",
   "metadata": {
    "ExecuteTime": {
     "end_time": "2022-12-17T07:06:31.263796Z",
     "start_time": "2022-12-17T07:06:31.225779Z"
    }
   },
   "outputs": [],
   "source": [
    "# pip install pmdarima"
   ]
  },
  {
   "cell_type": "code",
   "execution_count": 2,
   "id": "741b9606",
   "metadata": {
    "ExecuteTime": {
     "end_time": "2022-12-17T07:06:43.786007Z",
     "start_time": "2022-12-17T07:06:31.279391Z"
    }
   },
   "outputs": [],
   "source": [
    "import pandas as pd\n",
    "import numpy as np\n",
    "import matplotlib.pyplot as plt\n",
    "import seaborn as sns\n",
    "import warnings\n",
    "warnings.filterwarnings(\"ignore\")\n",
    " \n",
    "from statsmodels.tsa.stattools import adfuller\n",
    "from statsmodels.tsa.stattools import kpss"
   ]
  },
  {
   "cell_type": "code",
   "execution_count": 3,
   "id": "f4f6f911",
   "metadata": {
    "ExecuteTime": {
     "end_time": "2022-12-17T07:06:45.175093Z",
     "start_time": "2022-12-17T07:06:43.786007Z"
    }
   },
   "outputs": [
    {
     "data": {
      "text/html": [
       "<div>\n",
       "<style scoped>\n",
       "    .dataframe tbody tr th:only-of-type {\n",
       "        vertical-align: middle;\n",
       "    }\n",
       "\n",
       "    .dataframe tbody tr th {\n",
       "        vertical-align: top;\n",
       "    }\n",
       "\n",
       "    .dataframe thead th {\n",
       "        text-align: right;\n",
       "    }\n",
       "</style>\n",
       "<table border=\"1\" class=\"dataframe\">\n",
       "  <thead>\n",
       "    <tr style=\"text-align: right;\">\n",
       "      <th></th>\n",
       "      <th>date</th>\n",
       "      <th>price</th>\n",
       "    </tr>\n",
       "  </thead>\n",
       "  <tbody>\n",
       "    <tr>\n",
       "      <th>0</th>\n",
       "      <td>2016-01-01</td>\n",
       "      <td>2252.60</td>\n",
       "    </tr>\n",
       "    <tr>\n",
       "      <th>1</th>\n",
       "      <td>2016-01-02</td>\n",
       "      <td>2454.50</td>\n",
       "    </tr>\n",
       "    <tr>\n",
       "      <th>2</th>\n",
       "      <td>2016-01-03</td>\n",
       "      <td>2708.10</td>\n",
       "    </tr>\n",
       "    <tr>\n",
       "      <th>3</th>\n",
       "      <td>2016-01-04</td>\n",
       "      <td>2577.80</td>\n",
       "    </tr>\n",
       "    <tr>\n",
       "      <th>4</th>\n",
       "      <td>2016-01-05</td>\n",
       "      <td>2597.75</td>\n",
       "    </tr>\n",
       "  </tbody>\n",
       "</table>\n",
       "</div>"
      ],
      "text/plain": [
       "        date    price\n",
       "0 2016-01-01  2252.60\n",
       "1 2016-01-02  2454.50\n",
       "2 2016-01-03  2708.10\n",
       "3 2016-01-04  2577.80\n",
       "4 2016-01-05  2597.75"
      ]
     },
     "execution_count": 3,
     "metadata": {},
     "output_type": "execute_result"
    }
   ],
   "source": [
    "df=pd.read_excel('Gold_data.xlsx')\n",
    "df.head()"
   ]
  },
  {
   "cell_type": "code",
   "execution_count": 4,
   "id": "99fd5f9d",
   "metadata": {
    "ExecuteTime": {
     "end_time": "2022-12-17T07:06:45.208082Z",
     "start_time": "2022-12-17T07:06:45.175093Z"
    }
   },
   "outputs": [
    {
     "data": {
      "text/html": [
       "<div>\n",
       "<style scoped>\n",
       "    .dataframe tbody tr th:only-of-type {\n",
       "        vertical-align: middle;\n",
       "    }\n",
       "\n",
       "    .dataframe tbody tr th {\n",
       "        vertical-align: top;\n",
       "    }\n",
       "\n",
       "    .dataframe thead th {\n",
       "        text-align: right;\n",
       "    }\n",
       "</style>\n",
       "<table border=\"1\" class=\"dataframe\">\n",
       "  <thead>\n",
       "    <tr style=\"text-align: right;\">\n",
       "      <th></th>\n",
       "      <th>price</th>\n",
       "    </tr>\n",
       "    <tr>\n",
       "      <th>date</th>\n",
       "      <th></th>\n",
       "    </tr>\n",
       "  </thead>\n",
       "  <tbody>\n",
       "    <tr>\n",
       "      <th>2016-01-01</th>\n",
       "      <td>2252.60</td>\n",
       "    </tr>\n",
       "    <tr>\n",
       "      <th>2016-01-02</th>\n",
       "      <td>2454.50</td>\n",
       "    </tr>\n",
       "    <tr>\n",
       "      <th>2016-01-03</th>\n",
       "      <td>2708.10</td>\n",
       "    </tr>\n",
       "    <tr>\n",
       "      <th>2016-01-04</th>\n",
       "      <td>2577.80</td>\n",
       "    </tr>\n",
       "    <tr>\n",
       "      <th>2016-01-05</th>\n",
       "      <td>2597.75</td>\n",
       "    </tr>\n",
       "  </tbody>\n",
       "</table>\n",
       "</div>"
      ],
      "text/plain": [
       "              price\n",
       "date               \n",
       "2016-01-01  2252.60\n",
       "2016-01-02  2454.50\n",
       "2016-01-03  2708.10\n",
       "2016-01-04  2577.80\n",
       "2016-01-05  2597.75"
      ]
     },
     "execution_count": 4,
     "metadata": {},
     "output_type": "execute_result"
    }
   ],
   "source": [
    "df.set_index('date',inplace=True)\n",
    "df.head()"
   ]
  },
  {
   "cell_type": "code",
   "execution_count": 5,
   "id": "0bdb3045",
   "metadata": {
    "ExecuteTime": {
     "end_time": "2022-12-17T07:06:45.248808Z",
     "start_time": "2022-12-17T07:06:45.208082Z"
    }
   },
   "outputs": [
    {
     "name": "stdout",
     "output_type": "stream",
     "text": [
      "<class 'pandas.core.frame.DataFrame'>\n",
      "DatetimeIndex: 2182 entries, 2016-01-01 to 2021-12-21\n",
      "Data columns (total 1 columns):\n",
      " #   Column  Non-Null Count  Dtype  \n",
      "---  ------  --------------  -----  \n",
      " 0   price   2182 non-null   float64\n",
      "dtypes: float64(1)\n",
      "memory usage: 34.1 KB\n"
     ]
    }
   ],
   "source": [
    "df.info()"
   ]
  },
  {
   "cell_type": "code",
   "execution_count": 6,
   "id": "1b7d2f1d",
   "metadata": {
    "ExecuteTime": {
     "end_time": "2022-12-17T07:06:45.301335Z",
     "start_time": "2022-12-17T07:06:45.257213Z"
    }
   },
   "outputs": [
    {
     "data": {
      "text/html": [
       "<div>\n",
       "<style scoped>\n",
       "    .dataframe tbody tr th:only-of-type {\n",
       "        vertical-align: middle;\n",
       "    }\n",
       "\n",
       "    .dataframe tbody tr th {\n",
       "        vertical-align: top;\n",
       "    }\n",
       "\n",
       "    .dataframe thead th {\n",
       "        text-align: right;\n",
       "    }\n",
       "</style>\n",
       "<table border=\"1\" class=\"dataframe\">\n",
       "  <thead>\n",
       "    <tr style=\"text-align: right;\">\n",
       "      <th></th>\n",
       "      <th>price</th>\n",
       "    </tr>\n",
       "  </thead>\n",
       "  <tbody>\n",
       "    <tr>\n",
       "      <th>count</th>\n",
       "      <td>2182.000000</td>\n",
       "    </tr>\n",
       "    <tr>\n",
       "      <th>mean</th>\n",
       "      <td>3284.450046</td>\n",
       "    </tr>\n",
       "    <tr>\n",
       "      <th>std</th>\n",
       "      <td>719.564434</td>\n",
       "    </tr>\n",
       "    <tr>\n",
       "      <th>min</th>\n",
       "      <td>2252.600000</td>\n",
       "    </tr>\n",
       "    <tr>\n",
       "      <th>25%</th>\n",
       "      <td>2697.020000</td>\n",
       "    </tr>\n",
       "    <tr>\n",
       "      <th>50%</th>\n",
       "      <td>2879.800000</td>\n",
       "    </tr>\n",
       "    <tr>\n",
       "      <th>75%</th>\n",
       "      <td>4147.325000</td>\n",
       "    </tr>\n",
       "    <tr>\n",
       "      <th>max</th>\n",
       "      <td>4966.300000</td>\n",
       "    </tr>\n",
       "  </tbody>\n",
       "</table>\n",
       "</div>"
      ],
      "text/plain": [
       "             price\n",
       "count  2182.000000\n",
       "mean   3284.450046\n",
       "std     719.564434\n",
       "min    2252.600000\n",
       "25%    2697.020000\n",
       "50%    2879.800000\n",
       "75%    4147.325000\n",
       "max    4966.300000"
      ]
     },
     "execution_count": 6,
     "metadata": {},
     "output_type": "execute_result"
    }
   ],
   "source": [
    "df.describe()"
   ]
  },
  {
   "cell_type": "code",
   "execution_count": 7,
   "id": "39fa147b",
   "metadata": {
    "ExecuteTime": {
     "end_time": "2022-12-17T07:06:45.967341Z",
     "start_time": "2022-12-17T07:06:45.302956Z"
    }
   },
   "outputs": [
    {
     "data": {
      "text/plain": [
       "<AxesSubplot:xlabel='date'>"
      ]
     },
     "execution_count": 7,
     "metadata": {},
     "output_type": "execute_result"
    },
    {
     "data": {
      "image/png": "[encoded data removed]",
      "text/plain": [
       "<Figure size 640x480 with 1 Axes>"
      ]
     },
     "metadata": {},
     "output_type": "display_data"
    }
   ],
   "source": [
    "df.plot()"
   ]
  },
  {
   "cell_type": "code",
   "execution_count": 8,
   "id": "e2db59ef",
   "metadata": {
    "ExecuteTime": {
     "end_time": "2022-12-17T07:06:46.408819Z",
     "start_time": "2022-12-17T07:06:45.971485Z"
    }
   },
   "outputs": [
    {
     "data": {
      "text/plain": [
       "<AxesSubplot:xlabel='price', ylabel='Density'>"
      ]
     },
     "execution_count": 8,
     "metadata": {},
     "output_type": "execute_result"
    },
    {
     "data": {
      "image/png": "[encoded data removed]",
      "text/plain": [
       "<Figure size 640x480 with 1 Axes>"
      ]
     },
     "metadata": {},
     "output_type": "display_data"
    }
   ],
   "source": [
    "sns.distplot(df['price'])"
   ]
  },
  {
   "cell_type": "code",
   "execution_count": 9,
   "id": "8ae950a0",
   "metadata": {
    "ExecuteTime": {
     "end_time": "2022-12-17T07:06:46.638645Z",
     "start_time": "2022-12-17T07:06:46.413430Z"
    }
   },
   "outputs": [
    {
     "name": "stdout",
     "output_type": "stream",
     "text": [
      "Test Statistic: -0.309904\n",
      "p-value: 0.924090\n",
      "Critical values:\n",
      "\t1%: -3.433\n",
      "\t5%: -2.863\n",
      "\t10%: -2.567\n",
      "the data set not stationary\n"
     ]
    }
   ],
   "source": [
    "# Augmented Dickey-Fuller Test:\n",
    "result=adfuller (df['price'])\n",
    "print('Test Statistic: %f' %result[0])\n",
    "print('p-value: %f' %result[1])\n",
    "print('Critical values:')\n",
    "for key, value in result[4].items ():\n",
    "     print('\\t%s: %.3f' %(key, value))\n",
    "        \n",
    "p=result[1]\n",
    "\n",
    "if p>0.05:\n",
    "    print('the data set not stationary')\n",
    "else:\n",
    "    print('the data set is stationary')\n"
   ]
  },
  {
   "cell_type": "code",
   "execution_count": 10,
   "id": "9f3db2d6",
   "metadata": {
    "ExecuteTime": {
     "end_time": "2022-12-17T07:06:46.652839Z",
     "start_time": "2022-12-17T07:06:46.641588Z"
    }
   },
   "outputs": [],
   "source": [
    "# convert the non- stationary to stationary data\n",
    "df_log=np.log(df['price'])\n",
    "df['price_diff']=df_log.diff()"
   ]
  },
  {
   "cell_type": "code",
   "execution_count": 11,
   "id": "2a827ad1",
   "metadata": {
    "ExecuteTime": {
     "end_time": "2022-12-17T07:06:46.669312Z",
     "start_time": "2022-12-17T07:06:46.652839Z"
    }
   },
   "outputs": [
    {
     "data": {
      "text/plain": [
       "price         0\n",
       "price_diff    1\n",
       "dtype: int64"
      ]
     },
     "execution_count": 11,
     "metadata": {},
     "output_type": "execute_result"
    }
   ],
   "source": [
    "df.isna().sum()"
   ]
  },
  {
   "cell_type": "code",
   "execution_count": 12,
   "id": "23141d14",
   "metadata": {
    "ExecuteTime": {
     "end_time": "2022-12-17T07:06:46.686107Z",
     "start_time": "2022-12-17T07:06:46.669821Z"
    }
   },
   "outputs": [],
   "source": [
    "df.dropna(inplace=True)"
   ]
  },
  {
   "cell_type": "code",
   "execution_count": 13,
   "id": "b30003e9",
   "metadata": {
    "ExecuteTime": {
     "end_time": "2022-12-17T07:06:46.898504Z",
     "start_time": "2022-12-17T07:06:46.691664Z"
    }
   },
   "outputs": [
    {
     "name": "stdout",
     "output_type": "stream",
     "text": [
      "Test Statistic: -21.394232\n",
      "p-value: 0.000000\n",
      "Critical values:\n",
      "\t1%: -3.433\n",
      "\t5%: -2.863\n",
      "\t10%: -2.567\n",
      "the data set is stationary\n"
     ]
    }
   ],
   "source": [
    "# Augmented Dickey-Fuller Test:\n",
    "result=adfuller (df['price_diff'])\n",
    "print('Test Statistic: %f' %result[0])\n",
    "print('p-value: %f' %result[1])\n",
    "print('Critical values:')\n",
    "for key, value in result[4].items ():\n",
    "     print('\\t%s: %.3f' %(key, value))\n",
    "        \n",
    "p=result[1]\n",
    "\n",
    "if p>0.05:\n",
    "    print('the data set not stationary')\n",
    "else:\n",
    "    print('the data set is stationary')\n"
   ]
  },
  {
   "cell_type": "code",
   "execution_count": 14,
   "id": "8bef6b68",
   "metadata": {
    "ExecuteTime": {
     "end_time": "2022-12-17T07:06:47.600594Z",
     "start_time": "2022-12-17T07:06:46.907880Z"
    }
   },
   "outputs": [
    {
     "data": {
      "text/plain": [
       "[<matplotlib.lines.Line2D at 0x185d859a3d0>]"
      ]
     },
     "execution_count": 14,
     "metadata": {},
     "output_type": "execute_result"
    },
    {
     "data": {
      "image/png": "[encoded data removed]",
      "text/plain": [
       "<Figure size 640x480 with 1 Axes>"
      ]
     },
     "metadata": {},
     "output_type": "display_data"
    }
   ],
   "source": [
    "plt.plot(df['price_diff'])"
   ]
  },
  {
   "cell_type": "markdown",
   "id": "69ad6f3c",
   "metadata": {},
   "source": [
    "# Forecasting on SARIMAX"
   ]
  },
  {
   "cell_type": "code",
   "execution_count": 15,
   "id": "e4494a31",
   "metadata": {
    "ExecuteTime": {
     "end_time": "2022-12-17T07:06:49.879561Z",
     "start_time": "2022-12-17T07:06:47.608743Z"
    }
   },
   "outputs": [],
   "source": [
    "from statsmodels.graphics.tsaplots import plot_acf,plot_pacf\n",
    "import statsmodels.api as sm"
   ]
  },
  {
   "cell_type": "code",
   "execution_count": null,
   "id": "1d7362cb",
   "metadata": {
    "ExecuteTime": {
     "start_time": "2022-12-17T07:06:31.217Z"
    }
   },
   "outputs": [
    {
     "name": "stdout",
     "output_type": "stream",
     "text": [
      "Performing stepwise search to minimize aic\n",
      " ARIMA(1,0,1)(0,1,1)[12] intercept   : AIC=inf, Time=23.43 sec\n",
      " ARIMA(0,0,0)(0,1,0)[12] intercept   : AIC=-7252.754, Time=1.67 sec\n",
      " ARIMA(1,0,0)(1,1,0)[12] intercept   : AIC=-7702.421, Time=8.72 sec\n",
      " ARIMA(0,0,1)(0,1,1)[12] intercept   : AIC=inf, Time=24.86 sec\n",
      " ARIMA(0,0,0)(0,1,0)[12]             : AIC=-7254.754, Time=0.28 sec\n",
      " ARIMA(1,0,0)(0,1,0)[12] intercept   : AIC=-7252.395, Time=3.31 sec\n",
      " ARIMA(1,0,0)(2,1,0)[12] intercept   : AIC=-8010.765, Time=23.94 sec\n",
      " ARIMA(1,0,0)(2,1,1)[12] intercept   : AIC=inf, Time=49.78 sec\n",
      " ARIMA(1,0,0)(1,1,1)[12] intercept   : AIC=inf, Time=19.40 sec\n",
      " ARIMA(0,0,0)(2,1,0)[12] intercept   : AIC=-8010.643, Time=14.64 sec\n",
      " ARIMA(2,0,0)(2,1,0)[12] intercept   : AIC=-8030.199, Time=55.49 sec\n",
      " ARIMA(2,0,0)(1,1,0)[12] intercept   : AIC=-7729.747, Time=10.68 sec\n",
      " ARIMA(2,0,0)(2,1,1)[12] intercept   : AIC=inf, Time=59.03 sec\n",
      " ARIMA(2,0,0)(1,1,1)[12] intercept   : AIC=inf, Time=25.89 sec\n"
     ]
    }
   ],
   "source": [
    "# fit auto_arima function to gold price datast\n",
    "from pmdarima import auto_arima\n",
    "stepwise_fit=auto_arima(df['price_diff'],start_p=1,start_q=1,\n",
    "                       max_p=3,max_q=3,m=12,\n",
    "                       start_P=0,seasonal=True,\n",
    "                       d=None,D=1,trace=True,\n",
    "                        error_action ='ignore',   # we don't want to know if an order does not work\n",
    "                          suppress_warnings = True,  # we don't want convergence warnings\n",
    "                          stepwise = True)"
   ]
  },
  {
   "cell_type": "code",
   "execution_count": null,
   "id": "8465fef7",
   "metadata": {
    "ExecuteTime": {
     "start_time": "2022-12-17T07:06:31.220Z"
    }
   },
   "outputs": [],
   "source": [
    "# split the data into test/train set\n",
    "train=df.iloc[:len(df)-365]\n",
    "test=df.iloc[len(df)-365:] # set one year(12 months) for testing"
   ]
  },
  {
   "cell_type": "code",
   "execution_count": null,
   "id": "54c5f211",
   "metadata": {
    "ExecuteTime": {
     "start_time": "2022-12-17T07:06:31.226Z"
    }
   },
   "outputs": [],
   "source": [
    "#Fit a SARIMAX(2,0,0)x(2,1,0,12) on the training set\n",
    "from statsmodels.tsa.statespace.sarimax import SARIMAX\n",
    "\n",
    "model = SARIMAX(train['price'],order = (2, 0, 0), seasonal_order =(2, 1, 0, 12))\n",
    "result = model.fit()\n",
    "result.summary()"
   ]
  },
  {
   "cell_type": "code",
   "execution_count": null,
   "id": "f68226b2",
   "metadata": {
    "ExecuteTime": {
     "start_time": "2022-12-17T07:06:31.230Z"
    }
   },
   "outputs": [],
   "source": [
    "# prediction of ARIMA model against the test set\n",
    "start=len(train)\n",
    "end=len(train)+len(test)-1"
   ]
  },
  {
   "cell_type": "code",
   "execution_count": null,
   "id": "5089672f",
   "metadata": {
    "ExecuteTime": {
     "start_time": "2022-12-17T07:06:31.233Z"
    }
   },
   "outputs": [],
   "source": [
    "# Predictions for one-year against the test set\n",
    "predictions = result.predict(start, end, typ = 'levels').rename(\"Predictions\")"
   ]
  },
  {
   "cell_type": "code",
   "execution_count": null,
   "id": "fd694806",
   "metadata": {
    "ExecuteTime": {
     "start_time": "2022-12-17T07:06:31.236Z"
    }
   },
   "outputs": [],
   "source": [
    "predictions"
   ]
  },
  {
   "cell_type": "code",
   "execution_count": null,
   "id": "3dfa16f3",
   "metadata": {
    "ExecuteTime": {
     "start_time": "2022-12-17T07:06:31.239Z"
    }
   },
   "outputs": [],
   "source": [
    "# plot predictions and actual values\n",
    "predictions.plot(legend = True)\n",
    "test['price'].plot(legend = True)"
   ]
  },
  {
   "cell_type": "code",
   "execution_count": null,
   "id": "e8261f99",
   "metadata": {
    "ExecuteTime": {
     "start_time": "2022-12-17T07:06:31.242Z"
    }
   },
   "outputs": [],
   "source": [
    "#Forecast using ARIMA Model\n",
    "# Train the model on the full dataset\n",
    "model = model = SARIMAX(df['price'], \n",
    "                        order = (2, 0, 0), \n",
    "                        seasonal_order =(2, 1, 0, 12))\n",
    "result = model.fit()"
   ]
  },
  {
   "cell_type": "code",
   "execution_count": null,
   "id": "18cb765d",
   "metadata": {
    "ExecuteTime": {
     "start_time": "2022-12-17T07:06:31.245Z"
    }
   },
   "outputs": [],
   "source": [
    "# Forecast for the next 30 days\n",
    "forecast = result.predict(start = len(df), \n",
    "                          end = (len(df)-1) + 1 * 30, \n",
    "                          typ = 'levels').rename('Forecast 30 days')"
   ]
  },
  {
   "cell_type": "code",
   "execution_count": null,
   "id": "f5c463af",
   "metadata": {
    "ExecuteTime": {
     "start_time": "2022-12-17T07:06:31.249Z"
    }
   },
   "outputs": [],
   "source": [
    "# Plot the forecast values\n",
    "df['price'].plot(figsize = (12, 5), legend = True)\n",
    "forecast.plot(legend = True)"
   ]
  },
  {
   "cell_type": "code",
   "execution_count": null,
   "id": "182258c7",
   "metadata": {
    "ExecuteTime": {
     "start_time": "2022-12-17T07:06:31.253Z"
    }
   },
   "outputs": [],
   "source": [
    "# Load specific evaluation tools\n",
    "from statsmodels.tools.eval_measures import rmse\n",
    "rmse_sarimax=rmse(test[\"price\"], predictions)\n",
    "\n",
    "# Calculate root mean squared error\n",
    "print('RMSE of the gold price:',rmse_sarimax)"
   ]
  },
  {
   "cell_type": "markdown",
   "id": "d5835211",
   "metadata": {},
   "source": [
    "# CROSS-VERIFYING"
   ]
  },
  {
   "cell_type": "code",
   "execution_count": null,
   "id": "135f611e",
   "metadata": {
    "ExecuteTime": {
     "start_time": "2022-12-17T07:06:31.256Z"
    }
   },
   "outputs": [],
   "source": [
    "# Split data into train / test sets\n",
    "train1 = df.iloc[:len(df)-730]\n",
    "test1 = df.iloc[len(df)-730:] # set two year(24 months) for testing"
   ]
  },
  {
   "cell_type": "code",
   "execution_count": null,
   "id": "d2d46c00",
   "metadata": {
    "ExecuteTime": {
     "start_time": "2022-12-17T07:06:31.258Z"
    }
   },
   "outputs": [],
   "source": [
    "# prediction of SARIMA model against the test set\n",
    "start1=len(train1)\n",
    "end1=len(train1)+len(test1)-1"
   ]
  },
  {
   "cell_type": "code",
   "execution_count": null,
   "id": "a260f41c",
   "metadata": {
    "ExecuteTime": {
     "start_time": "2022-12-17T07:06:31.261Z"
    }
   },
   "outputs": [],
   "source": [
    "# Predictions for 2-year against the test set\n",
    "predictions1 = result.predict(start1, end1, typ = 'levels').rename(\"Predictions1\")"
   ]
  },
  {
   "cell_type": "code",
   "execution_count": null,
   "id": "c22eb9b9",
   "metadata": {
    "ExecuteTime": {
     "start_time": "2022-12-17T07:06:31.265Z"
    }
   },
   "outputs": [],
   "source": [
    "# plot predictions and actual values\n",
    "predictions1.plot(legend = True)\n",
    "test['price'].plot(legend = True)"
   ]
  },
  {
   "cell_type": "markdown",
   "id": "a7ebe717",
   "metadata": {},
   "source": [
    "# prophet model"
   ]
  },
  {
   "cell_type": "code",
   "execution_count": null,
   "id": "0ca28ce9",
   "metadata": {
    "ExecuteTime": {
     "start_time": "2022-12-17T07:06:31.270Z"
    }
   },
   "outputs": [],
   "source": [
    "# !pip install prophet"
   ]
  },
  {
   "cell_type": "code",
   "execution_count": null,
   "id": "f7202fe9",
   "metadata": {
    "ExecuteTime": {
     "start_time": "2022-12-17T07:06:31.274Z"
    }
   },
   "outputs": [],
   "source": [
    "import pandas as pd\n",
    "from prophet import Prophet\n",
    "import numpy as np\n",
    "import matplotlib.pyplot as plt\n",
    "import seaborn as sns"
   ]
  },
  {
   "cell_type": "code",
   "execution_count": null,
   "id": "aeca97a3",
   "metadata": {
    "ExecuteTime": {
     "start_time": "2022-12-17T07:06:31.279Z"
    }
   },
   "outputs": [],
   "source": [
    "dt=pd.read_excel('Gold_data.xlsx')"
   ]
  },
  {
   "cell_type": "code",
   "execution_count": null,
   "id": "b250be2f",
   "metadata": {
    "ExecuteTime": {
     "start_time": "2022-12-17T07:06:31.282Z"
    }
   },
   "outputs": [],
   "source": [
    "dt['date'] = pd.to_datetime(dt ['date'])"
   ]
  },
  {
   "cell_type": "code",
   "execution_count": null,
   "id": "b3bd64f8",
   "metadata": {
    "ExecuteTime": {
     "start_time": "2022-12-17T07:06:31.286Z"
    }
   },
   "outputs": [],
   "source": [
    "dt.columns = ['ds', 'y']\n",
    "dt.head()"
   ]
  },
  {
   "cell_type": "code",
   "execution_count": null,
   "id": "564a4840",
   "metadata": {
    "ExecuteTime": {
     "start_time": "2022-12-17T07:06:31.291Z"
    }
   },
   "outputs": [],
   "source": [
    "# model develpment\n",
    "p= Prophet(interval_width=0.80, daily_seasonality=True)\n",
    "model = p.fit(dt)"
   ]
  },
  {
   "cell_type": "code",
   "execution_count": null,
   "id": "682e2985",
   "metadata": {
    "ExecuteTime": {
     "start_time": "2022-12-17T07:06:31.296Z"
    }
   },
   "outputs": [],
   "source": [
    "# genarete the next 30 day  dates\n",
    "future = p.make_future_dataframe(periods=30, freq='D')\n",
    "future.tail(30)"
   ]
  },
  {
   "cell_type": "code",
   "execution_count": null,
   "id": "84b9e3a2",
   "metadata": {
    "ExecuteTime": {
     "start_time": "2022-12-17T07:06:31.302Z"
    }
   },
   "outputs": [],
   "source": [
    "# forecasting the next 30 days\n",
    "forecast_prediction = p.predict(future)\n",
    "forecast_prediction[['ds', 'yhat', 'yhat_lower', 'yhat_upper']].tail(30)"
   ]
  },
  {
   "cell_type": "code",
   "execution_count": null,
   "id": "ee6657f3",
   "metadata": {
    "ExecuteTime": {
     "start_time": "2022-12-17T07:06:31.307Z"
    }
   },
   "outputs": [],
   "source": [
    "# plot the forecasting gold price\n",
    "from prophet.plot import plot_plotly, plot_components_plotly\n",
    "plot_plotly(p,forecast_prediction)"
   ]
  },
  {
   "cell_type": "code",
   "execution_count": null,
   "id": "48eabbd2",
   "metadata": {
    "ExecuteTime": {
     "start_time": "2022-12-17T07:06:31.310Z"
    }
   },
   "outputs": [],
   "source": [
    "# plot the model componets\n",
    "plot_components_plotly(p, forecast_prediction)"
   ]
  },
  {
   "cell_type": "code",
   "execution_count": null,
   "id": "b6ce8745",
   "metadata": {
    "ExecuteTime": {
     "start_time": "2022-12-17T07:06:31.313Z"
    }
   },
   "outputs": [],
   "source": [
    "import math\n",
    "#mean square error\n",
    "MSE = np.square(np.subtract(dt['y'],forecast_prediction['yhat'])).mean() \n",
    "# root mean square\n",
    "RMSE_prophet = math.sqrt(MSE)\n",
    "print(\"Root Mean Square Error of gold price:\\n\")\n",
    "print(RMSE_prophet)"
   ]
  },
  {
   "cell_type": "markdown",
   "id": "5d2b0133",
   "metadata": {},
   "source": [
    "# Darts librery"
   ]
  },
  {
   "cell_type": "code",
   "execution_count": null,
   "id": "8cbba66a",
   "metadata": {
    "ExecuteTime": {
     "start_time": "2022-12-17T07:06:31.316Z"
    }
   },
   "outputs": [],
   "source": [
    "# pip install darts"
   ]
  },
  {
   "cell_type": "code",
   "execution_count": null,
   "id": "5720968b",
   "metadata": {
    "ExecuteTime": {
     "start_time": "2022-12-17T07:06:31.319Z"
    }
   },
   "outputs": [],
   "source": [
    "import pandas as pd\n",
    "import numpy as np\n",
    "import matplotlib.pyplot as plt\n",
    "from darts import TimeSeries"
   ]
  },
  {
   "cell_type": "code",
   "execution_count": null,
   "id": "cccc8786",
   "metadata": {
    "ExecuteTime": {
     "start_time": "2022-12-17T07:06:31.322Z"
    }
   },
   "outputs": [],
   "source": [
    "gold=pd.read_excel('Gold_data.xlsx')"
   ]
  },
  {
   "cell_type": "code",
   "execution_count": null,
   "id": "5d788e7b",
   "metadata": {
    "ExecuteTime": {
     "start_time": "2022-12-17T07:06:31.325Z"
    }
   },
   "outputs": [],
   "source": [
    "# convert the gold data set into the Timeseries\n",
    "df_series=TimeSeries.from_dataframe(gold, 'date', 'price')"
   ]
  },
  {
   "cell_type": "code",
   "execution_count": null,
   "id": "c5859c69",
   "metadata": {
    "ExecuteTime": {
     "start_time": "2022-12-17T07:06:31.328Z"
    }
   },
   "outputs": [],
   "source": [
    "df_series"
   ]
  },
  {
   "cell_type": "code",
   "execution_count": null,
   "id": "e02b9f43",
   "metadata": {
    "ExecuteTime": {
     "start_time": "2022-12-17T07:06:31.331Z"
    }
   },
   "outputs": [],
   "source": [
    "# Train and validation split\n",
    "train_gold,val_gold=df_series[:-365],df_series[-365:]"
   ]
  },
  {
   "cell_type": "markdown",
   "id": "053db9d3",
   "metadata": {},
   "source": [
    "# Forecasting NaiveSeasonal model"
   ]
  },
  {
   "cell_type": "code",
   "execution_count": null,
   "id": "f4fb76d0",
   "metadata": {
    "ExecuteTime": {
     "start_time": "2022-12-17T07:06:31.334Z"
    }
   },
   "outputs": [],
   "source": [
    "from darts.models import NaiveSeasonal\n",
    "from darts.utils.statistics import check_seasonality\n",
    "from darts.metrics import rmse"
   ]
  },
  {
   "cell_type": "code",
   "execution_count": null,
   "id": "66475bb1",
   "metadata": {
    "ExecuteTime": {
     "start_time": "2022-12-17T07:06:31.338Z"
    }
   },
   "outputs": [],
   "source": [
    "# check seasonality in train data\n",
    "for m in range(2, 25):\n",
    "    is_seasonal, period = check_seasonality(train_gold, m=m, alpha=0.05)\n",
    "    if is_seasonal:\n",
    "        print(\"There is seasonality of order {}.\".format(period))"
   ]
  },
  {
   "cell_type": "code",
   "execution_count": null,
   "id": "e2c683b5",
   "metadata": {
    "ExecuteTime": {
     "start_time": "2022-12-17T07:06:31.340Z"
    }
   },
   "outputs": [],
   "source": [
    "# NaiveSeasonal model\n",
    "seasonal_model = NaiveSeasonal(K=8)\n",
    "seasonal_model.fit(train_gold)"
   ]
  },
  {
   "cell_type": "code",
   "execution_count": null,
   "id": "226348a0",
   "metadata": {
    "ExecuteTime": {
     "start_time": "2022-12-17T07:06:31.344Z"
    }
   },
   "outputs": [],
   "source": [
    "pred_naive=seasonal_model.predict(n=len(val_gold)+30)\n",
    "pred_naive.tail(30)"
   ]
  },
  {
   "cell_type": "code",
   "execution_count": null,
   "id": "cae6fe61",
   "metadata": {
    "ExecuteTime": {
     "start_time": "2022-12-17T07:06:31.346Z"
    }
   },
   "outputs": [],
   "source": [
    "plt.figure(figsize=(20,5))\n",
    "df_series.plot(label='actual price')\n",
    "pred_naive.plot(label='forecost next 30 days price')\n",
    "plt.legend();"
   ]
  },
  {
   "cell_type": "code",
   "execution_count": null,
   "id": "6aa86f7e",
   "metadata": {
    "ExecuteTime": {
     "start_time": "2022-12-17T07:06:31.349Z"
    }
   },
   "outputs": [],
   "source": [
    "rmse_naive=rmse(df_series, pred_naive)\n",
    "print('RMSE of the gold price = {:.2f}%'.format(rmse_naive))"
   ]
  },
  {
   "cell_type": "markdown",
   "id": "43e09dd6",
   "metadata": {},
   "source": [
    "# Forecasting NBEATSModel"
   ]
  },
  {
   "cell_type": "code",
   "execution_count": null,
   "id": "04bf3221",
   "metadata": {
    "ExecuteTime": {
     "start_time": "2022-12-17T07:06:31.353Z"
    }
   },
   "outputs": [],
   "source": [
    "from darts.models import NBEATSModel\n",
    "model_nbeats=NBEATSModel(input_chunk_length=24,output_chunk_length=12,n_epochs=100,random_state=42)\n",
    "model_nbeats.fit(train_gold,verbose=True)"
   ]
  },
  {
   "cell_type": "code",
   "execution_count": null,
   "id": "f4ab7eb1",
   "metadata": {
    "ExecuteTime": {
     "start_time": "2022-12-17T07:06:31.356Z"
    }
   },
   "outputs": [],
   "source": [
    "pred=model_nbeats.predict(n=365)"
   ]
  },
  {
   "cell_type": "code",
   "execution_count": null,
   "id": "25bb6b64",
   "metadata": {
    "ExecuteTime": {
     "start_time": "2022-12-17T07:06:31.359Z"
    }
   },
   "outputs": [],
   "source": [
    "forecast= model_nbeats.predict(n=30, series=val_gold)"
   ]
  },
  {
   "cell_type": "code",
   "execution_count": null,
   "id": "70f4dddc",
   "metadata": {
    "ExecuteTime": {
     "start_time": "2022-12-17T07:06:31.362Z"
    }
   },
   "outputs": [],
   "source": [
    "df_series.plot(label='actual')\n",
    "forecast.plot(label='forecost next 30 day')\n",
    "plt.legend()"
   ]
  },
  {
   "cell_type": "code",
   "execution_count": null,
   "id": "6ddf4e23",
   "metadata": {
    "ExecuteTime": {
     "start_time": "2022-12-17T07:06:31.364Z"
    }
   },
   "outputs": [],
   "source": [
    "rmse_nbeats=rmse(df_series, pred)\n",
    "print('RMSE of the gold price = {:.2f}%'.format(rmse_nbeats))"
   ]
  },
  {
   "cell_type": "markdown",
   "id": "25c99474",
   "metadata": {
    "ExecuteTime": {
     "end_time": "2022-12-07T08:41:50.367588Z",
     "start_time": "2022-12-07T08:41:50.325006Z"
    }
   },
   "source": [
    "# xgboost forecasting"
   ]
  },
  {
   "cell_type": "code",
   "execution_count": null,
   "id": "59a7e0e3",
   "metadata": {
    "ExecuteTime": {
     "start_time": "2022-12-17T07:06:31.369Z"
    }
   },
   "outputs": [],
   "source": [
    "import pandas as pd\n",
    "import numpy as np\n",
    "import matplotlib.pyplot as plt\n",
    "import seaborn as sns\n",
    "\n",
    "import xgboost as xgb\n",
    "from sklearn.metrics import mean_squared_error\n",
    "color_pal = sns.color_palette()\n",
    "plt.style.use('fivethirtyeight')"
   ]
  },
  {
   "cell_type": "code",
   "execution_count": null,
   "id": "0d20efb5",
   "metadata": {
    "ExecuteTime": {
     "start_time": "2022-12-17T07:06:31.373Z"
    }
   },
   "outputs": [],
   "source": [
    "dn = pd.read_excel('Gold_data.xlsx')\n",
    "dn = dn.set_index('date')\n",
    "dn.index = pd.to_datetime(dn.index)"
   ]
  },
  {
   "cell_type": "code",
   "execution_count": null,
   "id": "fd1d013c",
   "metadata": {
    "ExecuteTime": {
     "start_time": "2022-12-17T07:06:31.376Z"
    }
   },
   "outputs": [],
   "source": [
    "# create a time series features\n",
    "\n",
    "def create_features(dn):\n",
    "    \"\"\"\n",
    "    Create time series features based on time series index.\n",
    "    \"\"\"\n",
    "    dn = dn.copy()\n",
    "    dn['dayofweek'] = dn.index.dayofweek\n",
    "    dn['quarter'] = dn.index.quarter\n",
    "    dn['month'] = dn.index.month\n",
    "    dn['year'] = dn.index.year\n",
    "    dn['dayofyear'] = dn.index.dayofyear\n",
    "    dn['dayofmonth'] = dn.index.day\n",
    "    dn['weekofyear'] = dn.index.isocalendar().week\n",
    "    return dn\n",
    "\n",
    "dn = create_features(dn)"
   ]
  },
  {
   "cell_type": "code",
   "execution_count": null,
   "id": "1ba7ec85",
   "metadata": {
    "ExecuteTime": {
     "start_time": "2022-12-17T07:06:31.379Z"
    }
   },
   "outputs": [],
   "source": [
    "# split the data\n",
    "\n",
    "train = create_features(train)\n",
    "test = create_features(test)\n",
    "\n",
    "FEATURES = ['dayofyear', 'dayofweek', 'quarter', 'month', 'year']\n",
    "TARGET = 'price'\n",
    "\n",
    "X_train = train[FEATURES]\n",
    "y_train = train[TARGET]\n",
    "\n",
    "X_test = test[FEATURES]\n",
    "y_test = test[TARGET]"
   ]
  },
  {
   "cell_type": "code",
   "execution_count": null,
   "id": "82cbb489",
   "metadata": {
    "ExecuteTime": {
     "start_time": "2022-12-17T07:06:31.384Z"
    }
   },
   "outputs": [],
   "source": [
    "# model fitting\n",
    "\n",
    "reg = xgb.XGBRegressor(base_score=0.5, booster='gbtree',    \n",
    "                       n_estimators=1000,\n",
    "                       early_stopping_rounds=50,\n",
    "                       objective='reg:linear',\n",
    "                       max_depth=3,\n",
    "                       learning_rate=0.01)\n",
    "reg.fit(X_train, y_train,\n",
    "        eval_set=[(X_train, y_train), (X_test, y_test)],\n",
    "        verbose=100)"
   ]
  },
  {
   "cell_type": "code",
   "execution_count": null,
   "id": "e6d655e8",
   "metadata": {
    "ExecuteTime": {
     "start_time": "2022-12-17T07:06:31.388Z"
    }
   },
   "outputs": [],
   "source": [
    "# model predictions\n",
    "# plot the actual and forecating price\n",
    "\n",
    "test['prediction'] = reg.predict(X_test)\n",
    "dn = dn.merge(test[['prediction']], how='left', left_index=True, right_index=True)\n",
    "ax = dn[['price']].plot(figsize=(15, 5))\n",
    "dn['prediction'].plot(ax=ax, style='-')\n",
    "plt.legend(['Truth Data', 'Predictions'])\n",
    "ax.set_title('Raw Dat and Prediction')\n",
    "plt.show()"
   ]
  },
  {
   "cell_type": "code",
   "execution_count": null,
   "id": "1d81e31e",
   "metadata": {
    "ExecuteTime": {
     "start_time": "2022-12-17T07:06:31.391Z"
    }
   },
   "outputs": [],
   "source": [
    "rmse_xgboost = np.sqrt(mean_squared_error(test['price'], test['prediction']))\n",
    "print(f'RMSE Score on Test set: {rmse_xgboost:0.2f}')"
   ]
  },
  {
   "cell_type": "code",
   "execution_count": null,
   "id": "fa3d24f0",
   "metadata": {
    "ExecuteTime": {
     "start_time": "2022-12-17T07:06:31.394Z"
    }
   },
   "outputs": [],
   "source": [
    "# Compare the rmse of all forecasting models\n",
    "\n",
    "data = {\"MODEL\":pd.Series([\"SARIMAX\",\"Prophet\",\"Naive seasonal\",\"NBEATS model\",'xgboost forecasting']),\n",
    "        \"RMSE_Values\":pd.Series([rmse_sarimax,RMSE_prophet,rmse_naive,rmse_nbeats,rmse_xgboost])}\n",
    "table=pd.DataFrame(data)\n",
    "table"
   ]
  }
 ],
 "metadata": {
  "kernelspec": {
   "display_name": "Python 3 (ipykernel)",
   "language": "python",
   "name": "python3"
  },
  "language_info": {
   "codemirror_mode": {
    "name": "ipython",
    "version": 3
   },
   "file_extension": ".py",
   "mimetype": "text/x-python",
   "name": "python",
   "nbconvert_exporter": "python",
   "pygments_lexer": "ipython3",
   "version": "3.9.13"
  }
 },
 "nbformat": 4,
 "nbformat_minor": 5
}
